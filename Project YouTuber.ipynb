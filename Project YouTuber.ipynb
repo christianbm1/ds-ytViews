{
 "cells": [
  {
   "cell_type": "code",
   "execution_count": 1,
   "metadata": {},
   "outputs": [],
   "source": [
    "import pandas as pd\n",
    "import numpy as np\n",
    "import os\n",
    "import datetime\n",
    "import seaborn as sns\n",
    "import matplotlib.pyplot as plt"
   ]
  },
  {
   "cell_type": "code",
   "execution_count": 2,
   "metadata": {},
   "outputs": [],
   "source": [
    "# Load the dataset\n",
    "df_o = pd.read_csv('./data/USvideos.csv', )\n",
    "df = df_o.copy()"
   ]
  },
  {
   "cell_type": "markdown",
   "metadata": {},
   "source": [
    "### Dataset Description ###  \n",
    "This dataset contains stats on daily trending, U.S. based videos posted on YouTube. There are 40,949 records - each representing a trending video post. Video posts can be trending on multiple days, so the number of actual unique video post is 6,351. Each video post in the dataset contains 16 features, including: views, likes, dislikes, comment count, title, description, tags, publish date, trending date, etc. "
   ]
  },
  {
   "cell_type": "code",
   "execution_count": 3,
   "metadata": {},
   "outputs": [
    {
     "data": {
      "text/plain": [
       "6351"
      ]
     },
     "execution_count": 3,
     "metadata": {},
     "output_type": "execute_result"
    }
   ],
   "source": [
    "#unique videos\n",
    "df_o['video_id'].describe()['unique']"
   ]
  },
  {
   "cell_type": "markdown",
   "metadata": {},
   "source": [
    "### Variable Description\n",
    "\n",
    "**1. Category ID:** The category of the video.  \n",
    "**2. Views:** On average, the videos in this dataset received 2,360,784 views. The median received 681,861; while the max received 225,211,923. The outliers are driving the average higher.   \n",
    "**3. Likes:** Likes variable share similar charecteristics as views.  \n",
    "**4. Dislikes:** Dislikes variable share similar charecteristics as views.    \n",
    "**5. Comment Count:** Comments variable share similar charecteristics as views.    "
   ]
  },
  {
   "cell_type": "code",
   "execution_count": 4,
   "metadata": {},
   "outputs": [
    {
     "name": "stdout",
     "output_type": "stream",
     "text": [
      "       category_id      views    likes  dislikes  comment_count\n",
      "count        40949      40949    40949     40949          40949\n",
      "mean            19    2360784    74266      3711           8446\n",
      "std              7    7394113   228885     29029          37430\n",
      "min              1        549        0         0              0\n",
      "25%             17     242329     5424       202            614\n",
      "50%             24     681861    18091       631           1856\n",
      "75%             25    1823157    55417      1938           5755\n",
      "max             43  225211923  5613827   1674420        1361580\n"
     ]
    }
   ],
   "source": [
    "print(df.describe().astype('int'))"
   ]
  },
  {
   "cell_type": "code",
   "execution_count": 5,
   "metadata": {},
   "outputs": [
    {
     "name": "stdout",
     "output_type": "stream",
     "text": [
      "comments_disabled           bool\n",
      "ratings_disabled            bool\n",
      "video_error_or_removed      bool\n",
      "category_id                int64\n",
      "views                      int64\n",
      "likes                      int64\n",
      "dislikes                   int64\n",
      "comment_count              int64\n",
      "video_id                  object\n",
      "trending_date             object\n",
      "title                     object\n",
      "channel_title             object\n",
      "publish_time              object\n",
      "tags                      object\n",
      "thumbnail_link            object\n",
      "description               object\n",
      "dtype: object\n"
     ]
    }
   ],
   "source": [
    "# What are the column types?\n",
    "# Descriptive stats of Comment Count, Likes and Dislikes are skewed as some videos have comments and/or reviews disabled. \n",
    "print(df.dtypes.sort_values())"
   ]
  },
  {
   "cell_type": "markdown",
   "metadata": {},
   "source": [
    "### Variables Summary ###\n",
    "Dataset seems to have large outliers that are driving these numbers out of wack.  \n",
    "  \n",
    "Descriptive stats for Comment Count, Likes and Dislikes are skewed as some videos have comments and/or reviews disabled. Additionally, there are dups in the dataset as videos can be trending on multiple days.\n",
    "Normalizing the stats by eliminating those videos that have disabled ratings and comments, and consolidating dups, might make the dataset more useful.  \n",
    "\n",
    "### What's the goal? ###  \n",
    "**VIEWS** is the currency of YouTubers. The more views one gets, the more subscribers, followers and money they make. Our goal is to ask questions in relation to views.  \n",
    "\n",
    "While the variables that the dataset provided seems useful, I'd like to know the video length to do analysis on views. I suspect that shorter videos receive more views, reiviews and/or comments. If that is the case, then when we post videos on YT, our video length should be within that range that experiences more views.\n",
    "  \n",
    "In order to answer this question, we must reach out to YouTube - either by scraping the length of each video or accessing the YT API to get this data.  \n",
    "  \n",
    "Additionally, once we normalize the data and retrieve all the additional variables through scraping and feature engineering, we'll run a regression analysis to better understand the relationship and impact of the variables on video views.  "
   ]
  },
  {
   "cell_type": "markdown",
   "metadata": {},
   "source": [
    "### Data Wrangling Plan & Questions ###  \n",
    "**Tags:** How many tags does each video have? Does the more tags a video have garner more views, given its more discoverable? Does having an overwhelming amount of tag hurt you?  \n",
    "  \n",
    "**Description:** Does the length of the description help or hurt views?  \n",
    "  \n",
    "**Title:** Does the length of the title play a role in receiving more views? Do similar titles cannabalize views?  \n",
    "  \n",
    "**Channel Title:** Are there similar sounding channels? Maybe too many similar sounding channels cannabalize each others views?\n",
    "\n",
    "**Publish and Trending Date:** On average, how long does it take for a video to go treding? What are the characteristics of the videos with the long lead time vs those with short lead time?  "
   ]
  },
  {
   "cell_type": "markdown",
   "metadata": {},
   "source": [
    "### Formatting Dates for Conditionals ###  \n",
    "Both variables need to be normalized as they are both in different formats.  \n",
    "We will get the difference between trending and publish date. This will give us insight into, on average, how long do we have to wait for our video to go trending? Additionally, what is the relationship between trending lead time and the length of the video? Do shorter videos trend faster?  \n",
    "  \n",
    "Additionally, we will tease out the time it was published. For videos that trend on the same date it was published, the time it was published might give us an insight into when we should release our video to the public. I assume that prime time is the best time to publish."
   ]
  },
  {
   "cell_type": "code",
   "execution_count": 6,
   "metadata": {},
   "outputs": [
    {
     "data": {
      "text/html": [
       "<div>\n",
       "<style scoped>\n",
       "    .dataframe tbody tr th:only-of-type {\n",
       "        vertical-align: middle;\n",
       "    }\n",
       "\n",
       "    .dataframe tbody tr th {\n",
       "        vertical-align: top;\n",
       "    }\n",
       "\n",
       "    .dataframe thead th {\n",
       "        text-align: right;\n",
       "    }\n",
       "</style>\n",
       "<table border=\"1\" class=\"dataframe\">\n",
       "  <thead>\n",
       "    <tr style=\"text-align: right;\">\n",
       "      <th></th>\n",
       "      <th>publish_time</th>\n",
       "      <th>trending_date</th>\n",
       "    </tr>\n",
       "  </thead>\n",
       "  <tbody>\n",
       "    <tr>\n",
       "      <th>10</th>\n",
       "      <td>2017-11-13T02:05:26.000Z</td>\n",
       "      <td>17.14.11</td>\n",
       "    </tr>\n",
       "    <tr>\n",
       "      <th>11</th>\n",
       "      <td>2017-11-13T03:00:00.000Z</td>\n",
       "      <td>17.14.11</td>\n",
       "    </tr>\n",
       "    <tr>\n",
       "      <th>12</th>\n",
       "      <td>2017-11-13T17:00:00.000Z</td>\n",
       "      <td>17.14.11</td>\n",
       "    </tr>\n",
       "    <tr>\n",
       "      <th>13</th>\n",
       "      <td>2017-11-12T14:00:00.000Z</td>\n",
       "      <td>17.14.11</td>\n",
       "    </tr>\n",
       "    <tr>\n",
       "      <th>14</th>\n",
       "      <td>2017-11-12T18:30:01.000Z</td>\n",
       "      <td>17.14.11</td>\n",
       "    </tr>\n",
       "    <tr>\n",
       "      <th>15</th>\n",
       "      <td>2017-11-13T20:09:58.000Z</td>\n",
       "      <td>17.14.11</td>\n",
       "    </tr>\n",
       "    <tr>\n",
       "      <th>16</th>\n",
       "      <td>2017-11-12T17:00:05.000Z</td>\n",
       "      <td>17.14.11</td>\n",
       "    </tr>\n",
       "    <tr>\n",
       "      <th>17</th>\n",
       "      <td>2017-11-13T16:00:07.000Z</td>\n",
       "      <td>17.14.11</td>\n",
       "    </tr>\n",
       "    <tr>\n",
       "      <th>18</th>\n",
       "      <td>2017-11-13T15:30:17.000Z</td>\n",
       "      <td>17.14.11</td>\n",
       "    </tr>\n",
       "    <tr>\n",
       "      <th>19</th>\n",
       "      <td>2017-11-12T22:00:01.000Z</td>\n",
       "      <td>17.14.11</td>\n",
       "    </tr>\n",
       "  </tbody>\n",
       "</table>\n",
       "</div>"
      ],
      "text/plain": [
       "                publish_time trending_date\n",
       "10  2017-11-13T02:05:26.000Z      17.14.11\n",
       "11  2017-11-13T03:00:00.000Z      17.14.11\n",
       "12  2017-11-13T17:00:00.000Z      17.14.11\n",
       "13  2017-11-12T14:00:00.000Z      17.14.11\n",
       "14  2017-11-12T18:30:01.000Z      17.14.11\n",
       "15  2017-11-13T20:09:58.000Z      17.14.11\n",
       "16  2017-11-12T17:00:05.000Z      17.14.11\n",
       "17  2017-11-13T16:00:07.000Z      17.14.11\n",
       "18  2017-11-13T15:30:17.000Z      17.14.11\n",
       "19  2017-11-12T22:00:01.000Z      17.14.11"
      ]
     },
     "execution_count": 6,
     "metadata": {},
     "output_type": "execute_result"
    }
   ],
   "source": [
    "df[['publish_time', 'trending_date']][10:20]"
   ]
  },
  {
   "cell_type": "markdown",
   "metadata": {},
   "source": [
    "**Create singleton, lambda functions**"
   ]
  },
  {
   "cell_type": "code",
   "execution_count": 7,
   "metadata": {},
   "outputs": [],
   "source": [
    "getTime = lambda x: str(datetime.datetime.strptime(x, '%Y-%m-%dT%H:%M:%S.000Z').time())\n",
    "getDate = lambda x: datetime.datetime.strptime(x, '%Y-%m-%dT%H:%M:%S.000Z').date()\n",
    "getDateFormatted = lambda x: getDate(datetime.datetime(int(x[0:2]), int(x[6:8]), int(x[3:5])).strftime('20%y-%m-%dT%H:%M:%S.000Z'))\n",
    "getDateDifference = lambda x: x.days"
   ]
  },
  {
   "cell_type": "markdown",
   "metadata": {},
   "source": [
    "**Apply functions to Dataset to create new variables**"
   ]
  },
  {
   "cell_type": "code",
   "execution_count": 8,
   "metadata": {},
   "outputs": [],
   "source": [
    "df['publish_time_date'] = df['publish_time'].apply(getDate)\n",
    "df['publish_time_time_use'] = df['publish_time'].apply(getTime)\n",
    "df['trending_date_date'] = df['trending_date'].apply(getDateFormatted)\n",
    "df['trend_lead_use'] = (df['trending_date_date'] - df['publish_time_date']).apply(getDateDifference)"
   ]
  },
  {
   "cell_type": "markdown",
   "metadata": {},
   "source": [
    "### Dealing W/ Duplicate Videos ###  \n",
    "There are approximately 6.3k unique videos in this dataset. Each video may be trending on multiple days, therefore - the stats provided are additive. View statistics for a video that is trending for 30 days are a running sum. "
   ]
  },
  {
   "cell_type": "markdown",
   "metadata": {},
   "source": [
    "**Dup Functions**  \n",
    "getDups: Get how many \"duplicate\" rows does a certain video post have. The amount of \"duplicate\" rows it has signifies the amount of trending days.  \n",
    "getFirstTrendStats: Get the date when the video first went trending. As well as the first trending day's views, likes, dislikes, comments\n"
   ]
  },
  {
   "cell_type": "code",
   "execution_count": 9,
   "metadata": {},
   "outputs": [],
   "source": [
    "getDups = lambda x: len(df[df['video_id'] == x])\n",
    "\n",
    "def getFirstTrendStats(x):\n",
    "    items = ['trending_date_date', 'views', 'likes', 'dislikes', 'comment_count']\n",
    "    return [df[df['video_id'] == x['video_id']].sort_values(by=['trending_date_date'])[:1][i].values[0] for i in items]"
   ]
  },
  {
   "cell_type": "markdown",
   "metadata": {},
   "source": [
    "**Get the amount of trending days**"
   ]
  },
  {
   "cell_type": "code",
   "execution_count": 10,
   "metadata": {},
   "outputs": [],
   "source": [
    "df['trending_days'] = df['video_id'].apply(getDups)"
   ]
  },
  {
   "cell_type": "markdown",
   "metadata": {},
   "source": [
    "**Get the stats of the first trending day**"
   ]
  },
  {
   "cell_type": "code",
   "execution_count": 11,
   "metadata": {},
   "outputs": [],
   "source": [
    "cols = df.apply(getFirstTrendStats, axis=1, result_type='expand')\n",
    "df['trending_date_first'] = cols[0]\n",
    "df['views_first'] = cols[1]\n",
    "df['likes_first'] = cols[2]\n",
    "df['dislikes_first'] = cols[3]\n",
    "df['comments_first'] = cols[4]"
   ]
  },
  {
   "cell_type": "markdown",
   "metadata": {},
   "source": [
    "**Get all last trending day records. This will contain all unique video posts, without duplicates, which will hopefully be a more accurate dataset to work with.**"
   ]
  },
  {
   "cell_type": "code",
   "execution_count": 12,
   "metadata": {},
   "outputs": [],
   "source": [
    "df_u = pd.DataFrame(df['video_id'].unique(), columns=['video_id'])"
   ]
  },
  {
   "cell_type": "code",
   "execution_count": 13,
   "metadata": {},
   "outputs": [
    {
     "data": {
      "text/plain": [
       "(6351, 26)"
      ]
     },
     "execution_count": 13,
     "metadata": {},
     "output_type": "execute_result"
    }
   ],
   "source": [
    "#& (df['trending_date_date'] == df[df['video_id'] == x['video_id']]['trending_date_date'].max())\n",
    "df_use = df_u.apply(lambda x: df[(df['video_id'] == x['video_id']) & (df['trending_date_date'] == df[df['video_id'] == x['video_id']]['trending_date_date'].max())][:1].values[0], axis=1, result_type='expand')\n",
    "df_use.columns = df.columns.tolist()\n",
    "df_use.shape"
   ]
  },
  {
   "cell_type": "code",
   "execution_count": 14,
   "metadata": {},
   "outputs": [],
   "source": [
    "df = df_use"
   ]
  },
  {
   "cell_type": "code",
   "execution_count": 15,
   "metadata": {},
   "outputs": [],
   "source": [
    "df['trend_lead_use'] = (df['trending_date_first'] - df['publish_time_date']).apply(getDateDifference)"
   ]
  },
  {
   "cell_type": "markdown",
   "metadata": {},
   "source": [
    "### Data Cleaning ###"
   ]
  },
  {
   "cell_type": "markdown",
   "metadata": {},
   "source": [
    "**Tags**  \n",
    "Tags look like they are seperated by the pipe symbol. Each tag after the first tag has quotes which should be scrubed.  \n",
    "We'll create a column to seperate and count each tag, as well as count duplicate tags."
   ]
  },
  {
   "cell_type": "code",
   "execution_count": 16,
   "metadata": {},
   "outputs": [
    {
     "data": {
      "text/plain": [
       "10    NFL|\"Football\"|\"offense\"|\"defense\"|\"afc\"|\"nfc\"...\n",
       "11    The Walking Dead|\"shiva\"|\"tiger\"|\"king ezekiel...\n",
       "12    marshmello|\"blocks\"|\"marshmello blocks\"|\"block...\n",
       "13    nowthis|\"nowthis world\"|\"world news\"|\"nowthis ...\n",
       "14    shopping for new fish|\"new fish\"|\"aquarium fis...\n",
       "15    Robots|\"Boston Dynamics\"|\"SpotMini\"|\"Legged Lo...\n",
       "16    pacific rim|\"pacific rim 2\"|\"pacific rim seque...\n",
       "17    TED|\"TED-Ed\"|\"TED Education\"|\"TED Ed\"|\"Hilary ...\n",
       "18    ultralight|\"airplane\"|\"homemade\"|\"DIY\"|\"hoverb...\n",
       "19    SciShow|\"science\"|\"Hank\"|\"Green\"|\"education\"|\"...\n",
       "Name: tags, dtype: object"
      ]
     },
     "execution_count": 16,
     "metadata": {},
     "output_type": "execute_result"
    }
   ],
   "source": [
    "df['tags'][10:20]"
   ]
  },
  {
   "cell_type": "code",
   "execution_count": 17,
   "metadata": {},
   "outputs": [],
   "source": [
    "# One time functions\n",
    "cleanTags = lambda x: x.lower().replace('\"','').split('|')\n",
    "checkDups = lambda x: {i:cleanTags(x).count(i) for i in cleanTags(x)}"
   ]
  },
  {
   "cell_type": "code",
   "execution_count": 18,
   "metadata": {},
   "outputs": [],
   "source": [
    "# Generate additional tag fields\n",
    "df['tags_clean'] = df['tags'].apply(cleanTags)\n",
    "df['tags_count_use'] = df['tags'].apply(cleanTags).apply(len)\n",
    "df['tags_dups'] = df['tags'].apply(checkDups)\n",
    "df['tags_dups_count_use'] = df['tags_dups'].apply(dict.values).apply(max)"
   ]
  },
  {
   "cell_type": "markdown",
   "metadata": {},
   "source": [
    "**Description**  \n",
    "Very unscrutured. The only thing we can get from here is the length of the string.  \n",
    "  \n",
    "For additional analysis, we should see if the tags are present in the description. This will help us answer the question: are tags an addition to the description or should they contain duplicate terms."
   ]
  },
  {
   "cell_type": "code",
   "execution_count": 19,
   "metadata": {},
   "outputs": [],
   "source": [
    "df['description_count_use'] = df['description'].apply(str).apply(lambda x: len(x))"
   ]
  },
  {
   "cell_type": "markdown",
   "metadata": {},
   "source": [
    "**Title**   \n",
    "Similar to Description, we should get the length of the title.  \n",
    "  \n",
    "For additional analysis, we should see if the tags are present in the title. If so, what position in the title does the tag take: beginning, middle, end? This will help us answer the question: are tags an addition to the title or should they contain duplicate terms. Also, this analysis could help us understand the importance of tags - do the search algorithm prioritize search results based on tag relevancy to the title?"
   ]
  },
  {
   "cell_type": "code",
   "execution_count": 20,
   "metadata": {},
   "outputs": [],
   "source": [
    "df['tile_count_use'] = df['title'].apply(str).apply(lambda x: len(x))"
   ]
  },
  {
   "cell_type": "markdown",
   "metadata": {},
   "source": [
    "### Review New Variables ###\n",
    "Off the bat, looking at the new variables, we can clearly see that the duplicate tags calculation we generate gives us no data: almost all video posts do not have duplicate tags. We will not be using this variable.  \n",
    "  \n",
    "Additionally, some outlier analysis must be done to the trend lead variable as 75% of the video posts in this dataset had at least a 9 day trend lead. However, there are some or one exception: a max of 4,215 trend lead. We should look into this/these video post(s) and discard or fix the result to be able to use this variable efficiently.\n",
    "\n",
    "The rest of the other variables look decent enough to continuie working with."
   ]
  },
  {
   "cell_type": "code",
   "execution_count": 21,
   "metadata": {},
   "outputs": [
    {
     "name": "stdout",
     "output_type": "stream",
     "text": [
      "       category_id      views    likes  dislikes  comment_count  \\\n",
      "count         6351       6351     6351      6351           6351   \n",
      "mean            20    1962117    55575      3067           6450   \n",
      "std              7    7060057   193830     31988          33823   \n",
      "min              1        559        0         0              0   \n",
      "25%             17     159156     2772       127            372   \n",
      "50%             24     518107    11906       444           1266   \n",
      "75%             25    1473581    38428      1507           4061   \n",
      "max             43  225211923  5613827   1674420        1361580   \n",
      "\n",
      "       trend_lead_use  trending_days  views_first  likes_first  \\\n",
      "count            6351           6351         6351         6351   \n",
      "mean               22              6       758209        34493   \n",
      "std               209              4      1928993       116243   \n",
      "min                -1              1          549            0   \n",
      "25%                 1              3        83511         1908   \n",
      "50%                 2              6       270902         7987   \n",
      "75%                 3              8       751266        25163   \n",
      "max              4215             30     48431654      3880071   \n",
      "\n",
      "       dislikes_first  comments_first  tags_count_use  tags_dups_count_use  \\\n",
      "count            6351            6351            6351                 6351   \n",
      "mean             1427            4501              19                    1   \n",
      "std             12078           21460              12                    0   \n",
      "min                 0               0               1                    1   \n",
      "25%                72             261              10                    1   \n",
      "50%               242             921              19                    1   \n",
      "75%               763            2845              29                    1   \n",
      "max            629120          733373              69                    3   \n",
      "\n",
      "       description_count_use  tile_count_use  \n",
      "count                   6351            6351  \n",
      "mean                    1002              49  \n",
      "std                      841              19  \n",
      "min                        1               3  \n",
      "25%                      392              35  \n",
      "50%                      811              48  \n",
      "75%                     1355              62  \n",
      "max                     5063             100  \n"
     ]
    }
   ],
   "source": [
    "print(df.describe().astype('int'))"
   ]
  },
  {
   "cell_type": "markdown",
   "metadata": {},
   "source": [
    "### Features for Analysis ###"
   ]
  },
  {
   "cell_type": "code",
   "execution_count": 34,
   "metadata": {},
   "outputs": [],
   "source": [
    "#features = ['views', 'likes', 'dislikes', 'comment_count', 'tags_count_use', 'description_count_use','tile_count_use', 'trend_lead_use']\n",
    "df_use = df"
   ]
  },
  {
   "cell_type": "code",
   "execution_count": 35,
   "metadata": {},
   "outputs": [],
   "source": [
    "df_wRatings = df_use[df_use['ratings_disabled']==True]\n",
    "df_wComments = df_use[df_use['comments_disabled']==True]\n",
    "df_use = df_use[(df_use['comments_disabled']==False) & (df_use['ratings_disabled']==False)]"
   ]
  },
  {
   "cell_type": "markdown",
   "metadata": {},
   "source": [
    "### Views Feature ###  \n",
    "As mentioned above, the Views feature is out of wack given the large outliers. In order to go into a deeper analysis, I'll have to do some outlier analysis - whether fixing the values or discarding."
   ]
  },
  {
   "cell_type": "code",
   "execution_count": 36,
   "metadata": {},
   "outputs": [
    {
     "data": {
      "image/png": "[encoded data removed]",
      "text/plain": [
       "<Figure size 432x288 with 1 Axes>"
      ]
     },
     "metadata": {
      "needs_background": "light"
     },
     "output_type": "display_data"
    }
   ],
   "source": [
    "import matplotlib.pyplot as plt\n",
    "fig, ax = plt.subplots(figsize=(6,4))\n",
    "ax.scatter(df_use.index, np.sort(df_use['views']))\n",
    "ax.set_xlabel('index')\n",
    "ax.set_ylabel('views')\n",
    "plt.show()"
   ]
  },
  {
   "cell_type": "markdown",
   "metadata": {},
   "source": [
    "**The dataset includes videos from different categories.**  \n",
    "Obviously, some categories will receive more views than others. For example, the top viewed videos were in the music category. If we compare our videos to the whole dataset, we will be comparing apples and oranges and will be getting garbage results."
   ]
  },
  {
   "cell_type": "code",
   "execution_count": 37,
   "metadata": {},
   "outputs": [],
   "source": [
    "def buildBarChart():\n",
    "    fig, ax = plt.subplots(figsize=(8,5))\n",
    "    sns.set_color_codes(\"pastel\")\n",
    "    sns.barplot(x='category_id', y='views', data=df_use.groupby(['category_id']).sum().reset_index(),\n",
    "                label=\"Final Day\", color=\"r\", order=df_use.groupby(['category_id']).sum().reset_index().sort_values(by='views')['category_id'])\n",
    "\n",
    "    #Plot the crashes where alcohol was involved\n",
    "    sns.set_color_codes(\"muted\")\n",
    "    sns.barplot(x=\"category_id\", y=\"views_first\", data=df_use.groupby(['category_id']).sum().reset_index(),\n",
    "                label=\"First Day\", color=\"b\", order=df_use.groupby(['category_id']).sum().reset_index().sort_values(by='views')['category_id'])\n",
    "\n",
    "    # Add a legend and informative axis label\n",
    "    ax.legend(ncol=2, loc=\"upper left\", frameon=True)\n",
    "    ax.set(ylabel=\"Views\",\n",
    "           xlabel=\"Views by Category\")\n",
    "    sns.despine(left=True, bottom=True)"
   ]
  },
  {
   "cell_type": "code",
   "execution_count": 38,
   "metadata": {},
   "outputs": [
    {
     "data": {
      "image/png": "[encoded data removed]",
      "text/plain": [
       "<Figure size 576x360 with 1 Axes>"
      ]
     },
     "metadata": {
      "needs_background": "light"
     },
     "output_type": "display_data"
    }
   ],
   "source": [
    "buildBarChart()"
   ]
  },
  {
   "cell_type": "markdown",
   "metadata": {},
   "source": [
    "We can see here the difference between aggregate view count per category. Category 10 (Music) and 24 (Entertainment) dominate the trending scene. This makes sense since musicians and entertainers bring their own fan base, which helps their view stats.  \n",
    "  \n",
    "Since we are not making entertainment nor music videos, it will be best to eliminate these 2 categories from our analysis as, we would be comparing apples to oranges.\n",
    "\n",
    "For regression analysis, we'll add back the excluded categories and turn the category_id column into dummy variables."
   ]
  },
  {
   "cell_type": "code",
   "execution_count": 39,
   "metadata": {},
   "outputs": [],
   "source": [
    "df_use = df_use[(df_use['category_id'] != 24) & (df_use['category_id'] != 10)]"
   ]
  },
  {
   "cell_type": "code",
   "execution_count": 40,
   "metadata": {},
   "outputs": [
    {
     "data": {
      "image/png": "[encoded data removed]",
      "text/plain": [
       "<Figure size 576x360 with 1 Axes>"
      ]
     },
     "metadata": {
      "needs_background": "light"
     },
     "output_type": "display_data"
    }
   ],
   "source": [
    "buildBarChart()"
   ]
  },
  {
   "cell_type": "code",
   "execution_count": 439,
   "metadata": {
    "jupyter": {
     "source_hidden": true
    },
    "tags": []
   },
   "outputs": [],
   "source": [
    "df_agg = df_use.groupby(['category_id']).sum().reset_index()\n",
    "df_agg['counts'] = df_use.groupby(['category_id']).size().reset_index(name='video_count')['video_count']\n",
    "df_agg['views_mm'] = df_agg['views'].apply(lambda x: x / 1000000)"
   ]
  },
  {
   "cell_type": "code",
   "execution_count": 619,
   "metadata": {
    "tags": []
   },
   "outputs": [],
   "source": [
    "#13\n",
    "def bubbleIt(x , y, labelx, labely):\n",
    "    colors = [\n",
    "        \"#363732\",\n",
    "        \"#F7C1BB\",\n",
    "        \"#353A47\",\n",
    "        \"#2A4849\",\n",
    "        \"#885A5A\",\n",
    "        \"#84B082\",\n",
    "        \"#DC136C\",\n",
    "        \"#222E50\",\n",
    "        \"#53D8FB\",\n",
    "        \"#D68C45\",\n",
    "        \"#783F8E\",\n",
    "        \"#4F1271\",\n",
    "        \"#D6FF79\",\n",
    "        \"#5F00BA\",    \n",
    "\n",
    "    ]\n",
    "\n",
    "    #bubble scatter plot\n",
    "    #x: views\n",
    "    #y: number of trending days\n",
    "    #color of circles: category id\n",
    "    #size of circle: count of video posts\n",
    "    #Answers: If I were a YouTuber, what category will give me more bang for the buck?\n",
    "    fig, ax = plt.subplots(figsize=(8,5))\n",
    "    sns.scatterplot(\n",
    "        data=df_agg, \n",
    "        x=pd.Series(data=(df_agg[x] / df_agg['counts']).values / 1000000, index=df_agg['category_id'].values).values,\n",
    "        y=pd.Series(data=(df_agg['views'] / df_agg['counts']).values / 1000000, index=df_agg['category_id'].values).values,\n",
    "        s=(df_agg['views'] - df_agg['views_first'])/df_agg['views_first'] * 1000,\n",
    "        legend=False,\n",
    "        #sizes=list(df_agg['trending_days']/df_agg['counts']),\n",
    "        #sizes= (0,2500),\n",
    "        hue = 'category_id',\n",
    "        palette=colors\n",
    "    )\n",
    "    ax.set(ylabel=labely,\n",
    "           xlabel=labelx)\n",
    "\n",
    "    for line in range(0, df_agg.shape[0]):\n",
    "        plt.text(\n",
    "             pd.Series(data=(df_agg[x] / df_agg['counts']).values / 1000000, index=df_agg['category_id'].values).values[line : line + 1],\n",
    "             pd.Series(data=(df_agg['views'] / df_agg['counts']).values / 1000000, index=df_agg['category_id'].values).values[line : line + 1],\n",
    "             str(df_agg[line: line + 1]['category_id'].values[0]), \n",
    "             horizontalalignment='center', \n",
    "             verticalalignment='center_baseline', \n",
    "             size=12, \n",
    "             bbox=dict(facecolor='white', boxstyle='circle, pad=0.1'),\n",
    "             color='black', \n",
    "             weight='bold'\n",
    "        )\n",
    "\n",
    "    plt.show()\n"
   ]
  },
  {
   "cell_type": "code",
   "execution_count": 620,
   "metadata": {},
   "outputs": [
    {
     "data": {
      "image/png": "[encoded data removed]",
      "text/plain": [
       "<Figure size 576x360 with 1 Axes>"
      ]
     },
     "metadata": {
      "needs_background": "light"
     },
     "output_type": "display_data"
    }
   ],
   "source": [
    "bubbleIt('views', 'counts', 'Video Posts', 'Avg Views Per Video Posts (mm)')"
   ]
  },
  {
   "cell_type": "markdown",
   "metadata": {},
   "source": [
    "**Chances of"
   ]
  },
  {
   "cell_type": "code",
   "execution_count": 599,
   "metadata": {},
   "outputs": [
    {
     "data": {
      "text/plain": [
       "1     2.577802\n",
       "2     1.484269\n",
       "15    0.747811\n",
       "17    1.423811\n",
       "19    0.996254\n",
       "20    2.335621\n",
       "22    1.251148\n",
       "23    1.425121\n",
       "25    0.433660\n",
       "26    0.937819\n",
       "27    0.617351\n",
       "28    1.081430\n",
       "29    2.389424\n",
       "43    0.762400\n",
       "dtype: float64"
      ]
     },
     "execution_count": 599,
     "metadata": {},
     "output_type": "execute_result"
    }
   ],
   "source": [
    "x = pd.Series(data=(df_agg['views'] / df_agg['counts']).values / 1000000, index=df_agg['category_id'].values)\n",
    "x"
   ]
  },
  {
   "cell_type": "markdown",
   "metadata": {},
   "source": [
    "### Quick Visuals to Measure Relationships ###  \n",
    "The strongest correlation we can glean exists between the original variables. Correlation between the original variables and new variables seem to be non existent."
   ]
  },
  {
   "cell_type": "code",
   "execution_count": 27,
   "metadata": {
    "jupyter": {
     "source_hidden": true
    },
    "tags": []
   },
   "outputs": [],
   "source": [
    "def getCorrHeatmap():\n",
    "    corr = df_use.corr()\n",
    "    ax = sns.heatmap(\n",
    "        corr, \n",
    "        vmin=-1, vmax=1, center=0,\n",
    "        cmap=sns.diverging_palette(20, 220, n=200),\n",
    "        square=True\n",
    "    )\n",
    "    ax.set_xticklabels(\n",
    "        ax.get_xticklabels(),\n",
    "        rotation=45,\n",
    "        horizontalalignment='right'\n",
    "    );"
   ]
  },
  {
   "cell_type": "code",
   "execution_count": 28,
   "metadata": {},
   "outputs": [
    {
     "data": {
      "image/png": "[encoded data removed]",
      "text/plain": [
       "<Figure size 432x288 with 2 Axes>"
      ]
     },
     "metadata": {
      "needs_background": "light"
     },
     "output_type": "display_data"
    }
   ],
   "source": [
    "getCorrHeatmap()"
   ]
  },
  {
   "cell_type": "markdown",
   "metadata": {},
   "source": [
    "**Deeper Dive into Relationships**"
   ]
  },
  {
   "cell_type": "code",
   "execution_count": null,
   "metadata": {},
   "outputs": [],
   "source": []
  }
 ],
 "metadata": {
  "kernelspec": {
   "display_name": "Python 3",
   "language": "python",
   "name": "python3"
  },
  "language_info": {
   "codemirror_mode": {
    "name": "ipython",
    "version": 3
   },
   "file_extension": ".py",
   "mimetype": "text/x-python",
   "name": "python",
   "nbconvert_exporter": "python",
   "pygments_lexer": "ipython3",
   "version": "3.8.8"
  }
 },
 "nbformat": 4,
 "nbformat_minor": 4
}
